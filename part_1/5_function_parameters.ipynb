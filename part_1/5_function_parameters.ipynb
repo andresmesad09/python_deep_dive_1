{
 "cells": [
  {
   "cell_type": "markdown",
   "metadata": {},
   "source": [
    "# Argument vs Parameters"
   ]
  },
  {
   "cell_type": "markdown",
   "metadata": {},
   "source": [
    "```python\n",
    "def my_func(a, b):\n",
    "    ...\n",
    "```\n",
    "In this context, `a` and `b` are called `parameters` of `my_func`\n",
    "when you call the function:\n",
    "\n",
    "```python\n",
    "x = 10\n",
    "y = 'a'\n",
    "my_func(x, y)\n",
    "```\n",
    "\n",
    "`x` and `y` are called the `arguments` of `my_func`"
   ]
  },
  {
   "cell_type": "markdown",
   "metadata": {},
   "source": [
    "# Positional and Keywork arguments"
   ]
  },
  {
   "cell_type": "markdown",
   "metadata": {},
   "source": [
    "**Positional arguments**\n",
    "\n",
    "Most common way of assigning argument to parameters: via the order in which they are passed i.e. their position\n",
    "\n",
    "**Default values**\n",
    "\n",
    "A positional argument can be made optional by specifyng a default value for the corresponding parameter\n",
    "\n",
    "```python\n",
    "def my_func(a, b = 100):\n",
    "    # code here\n",
    "    pass\n",
    "```\n",
    "\n",
    "`my_func(10,20)` -> `a = 10`, `b = 20`  \n",
    "`my_func(5)` -> `a = 5`, `b = 100`\n",
    "\n",
    "If a positional parameter is defined with a default value, every positional parameter after it must also be given a default value\n",
    "\n",
    "This won't work\n",
    "```python\n",
    "def my_func(a, b=10, c):\n",
    "    pass\n",
    "```\n",
    "\n",
    "This will work\n",
    "```python\n",
    "def my_func(a, b=10, c=5):\n",
    "    pass\n",
    "```\n",
    "\n",
    "**Keywork arguments**\n",
    "\n",
    "Named arguments\n",
    "\n",
    "`my_func(a=1, c=2)` -> `a=1`, `b=10`, `c=2`\n",
    "\n",
    "Once you used a named argument, all arguments thereafter must be named too\n",
    "\n",
    "You can't do this:  \n",
    "`my_func(c=1, 2,3)`"
   ]
  },
  {
   "cell_type": "code",
   "execution_count": 3,
   "metadata": {},
   "outputs": [
    {
     "ename": "SyntaxError",
     "evalue": "non-default argument follows default argument (2120171138.py, line 1)",
     "output_type": "error",
     "traceback": [
      "\u001b[0;36m  Cell \u001b[0;32mIn[3], line 1\u001b[0;36m\u001b[0m\n\u001b[0;31m    def my_func(a, b=10, c):\u001b[0m\n\u001b[0m                         ^\u001b[0m\n\u001b[0;31mSyntaxError\u001b[0m\u001b[0;31m:\u001b[0m non-default argument follows default argument\n"
     ]
    }
   ],
   "source": [
    "def my_func(a, b=10, c):\n",
    "    pass"
   ]
  }
 ],
 "metadata": {
  "kernelspec": {
   "display_name": "venv",
   "language": "python",
   "name": "python3"
  },
  "language_info": {
   "codemirror_mode": {
    "name": "ipython",
    "version": 3
   },
   "file_extension": ".py",
   "mimetype": "text/x-python",
   "name": "python",
   "nbconvert_exporter": "python",
   "pygments_lexer": "ipython3",
   "version": "3.10.4"
  }
 },
 "nbformat": 4,
 "nbformat_minor": 2
}
