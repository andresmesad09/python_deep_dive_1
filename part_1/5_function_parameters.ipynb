{
 "cells": [
  {
   "cell_type": "markdown",
   "metadata": {},
   "source": [
    "# Argument vs Parameters"
   ]
  },
  {
   "cell_type": "markdown",
   "metadata": {},
   "source": [
    "```python\n",
    "def my_func(a, b):\n",
    "    ...\n",
    "```\n",
    "In this context, `a` and `b` are called `parameters` of `my_func`\n",
    "when you call the function:\n",
    "\n",
    "```python\n",
    "x = 10\n",
    "y = 'a'\n",
    "my_func(x, y)\n",
    "```\n",
    "\n",
    "`x` and `y` are called the `arguments` of `my_func`"
   ]
  },
  {
   "cell_type": "markdown",
   "metadata": {},
   "source": [
    "# Positional and Keywork arguments"
   ]
  },
  {
   "cell_type": "markdown",
   "metadata": {},
   "source": [
    "**Positional arguments**\n",
    "\n",
    "Most common way of assigning argument to parameters: via the order in which they are passed i.e. their position\n",
    "\n",
    "**Default values**\n",
    "\n",
    "A positional argument can be made optional by specifyng a default value for the corresponding parameter\n",
    "\n",
    "```python\n",
    "def my_func(a, b = 100):\n",
    "    # code here\n",
    "    pass\n",
    "```\n",
    "\n",
    "`my_func(10,20)` -> `a = 10`, `b = 20`  \n",
    "`my_func(5)` -> `a = 5`, `b = 100`\n",
    "\n",
    "If a positional parameter is defined with a default value, every positional parameter after it must also be given a default value\n",
    "\n",
    "This won't work\n",
    "```python\n",
    "def my_func(a, b=10, c):\n",
    "    pass\n",
    "```\n",
    "\n",
    "This will work\n",
    "```python\n",
    "def my_func(a, b=10, c=5):\n",
    "    pass\n",
    "```\n",
    "\n",
    "**Keywork arguments**\n",
    "\n",
    "Named arguments\n",
    "\n",
    "`my_func(a=1, c=2)` -> `a=1`, `b=10`, `c=2`\n",
    "\n",
    "Once you used a named argument, all arguments thereafter must be named too\n",
    "\n",
    "You can't do this:  \n",
    "`my_func(c=1, 2,3)`"
   ]
  },
  {
   "cell_type": "code",
   "execution_count": 3,
   "metadata": {},
   "outputs": [
    {
     "ename": "SyntaxError",
     "evalue": "non-default argument follows default argument (2120171138.py, line 1)",
     "output_type": "error",
     "traceback": [
      "\u001b[0;36m  Cell \u001b[0;32mIn[3], line 1\u001b[0;36m\u001b[0m\n\u001b[0;31m    def my_func(a, b=10, c):\u001b[0m\n\u001b[0m                         ^\u001b[0m\n\u001b[0;31mSyntaxError\u001b[0m\u001b[0;31m:\u001b[0m non-default argument follows default argument\n"
     ]
    }
   ],
   "source": [
    "def my_func(a, b=10, c):\n",
    "    pass"
   ]
  },
  {
   "cell_type": "markdown",
   "metadata": {},
   "source": [
    "# Unpacking iterables"
   ]
  },
  {
   "cell_type": "markdown",
   "metadata": {},
   "source": [
    "What defines a tuple in Python, is not `()`, but `,`\n",
    "\n",
    "`1,2,3` It's a tuple"
   ]
  },
  {
   "cell_type": "markdown",
   "metadata": {},
   "source": [
    "**Packed values**\n",
    "\n",
    "Packed values refers to values that are bundled together in the some way\n",
    "\n",
    "Any iterable can be considered a packed value (lists, tuples, strings, sets and dictionaries)\n",
    "\n",
    "**Unpacked packed values**\n",
    "\n",
    "Unpacking is the act of splitting packed values into individual variables contained in a list or tuple\n",
    "\n",
    "```python\n",
    "a,b,c = [1,2,3]\n",
    "```\n",
    "The unpacking into individual variables is based on the relative positions of each element\n",
    "\n",
    "\n",
    "\n",
    "\n"
   ]
  },
  {
   "cell_type": "code",
   "execution_count": 4,
   "metadata": {},
   "outputs": [],
   "source": [
    "a,b,c = 10,20,\"hello\""
   ]
  },
  {
   "cell_type": "code",
   "execution_count": 5,
   "metadata": {},
   "outputs": [
    {
     "name": "stdout",
     "output_type": "stream",
     "text": [
      "10 20 hello\n"
     ]
    }
   ],
   "source": [
    "print(a,b,c)"
   ]
  },
  {
   "cell_type": "markdown",
   "metadata": {},
   "source": [
    "## Simple application of unpacking\n",
    "\n",
    "Swapping values of two variables\n",
    "\n",
    "```python\n",
    "a = 10\n",
    "b = 10\n",
    "# traditional approach\n",
    "tmp = a\n",
    "a = b\n",
    "b = tmp\n",
    "# using unpacking\n",
    "a, b = b, a\n",
    "```\n",
    "\n",
    "👆this works becayse in Python, the entire right hand side is evaluted first and completely, then assigmners are made to the left hand side"
   ]
  },
  {
   "cell_type": "markdown",
   "metadata": {},
   "source": [
    "## Unpacking sets and dictionaries\n",
    "\n",
    "```python\n",
    "d = {'key1': 1, 'key2': 2, 'key3': 3,}\n",
    "# don't do this:\n",
    "a,b,c = d\n",
    "# dictonaries and sets are unordered types (no guarantee the order of the results will match)\n",
    "```"
   ]
  },
  {
   "cell_type": "code",
   "execution_count": 10,
   "metadata": {},
   "outputs": [
    {
     "name": "stdout",
     "output_type": "stream",
     "text": [
      "key1\n",
      "key2\n",
      "key3\n"
     ]
    }
   ],
   "source": [
    "d = {'key1': 1, 'key2': 2, 'key3': 3,}\n",
    "for e in d:\n",
    "    print(e)"
   ]
  },
  {
   "cell_type": "code",
   "execution_count": 14,
   "metadata": {},
   "outputs": [],
   "source": [
    "a,b,c = d"
   ]
  },
  {
   "cell_type": "code",
   "execution_count": 15,
   "metadata": {},
   "outputs": [
    {
     "name": "stdout",
     "output_type": "stream",
     "text": [
      "key1 key2 key3\n"
     ]
    }
   ],
   "source": [
    "print(a,b,c)"
   ]
  },
  {
   "cell_type": "code",
   "execution_count": 18,
   "metadata": {},
   "outputs": [
    {
     "name": "stdout",
     "output_type": "stream",
     "text": [
      "dict_keys(['key1', 'key2', 'key3'])\n"
     ]
    }
   ],
   "source": [
    "print(d.keys())"
   ]
  },
  {
   "cell_type": "code",
   "execution_count": 19,
   "metadata": {},
   "outputs": [],
   "source": [
    "s = {'p', 'y', 't', 'h', 'o', 'n'}"
   ]
  },
  {
   "cell_type": "code",
   "execution_count": 21,
   "metadata": {},
   "outputs": [
    {
     "name": "stdout",
     "output_type": "stream",
     "text": [
      "{'p', 'h', 'y', 'n', 'o', 't'}\n"
     ]
    }
   ],
   "source": [
    "# order is not guaranteed\n",
    "print(s)"
   ]
  },
  {
   "cell_type": "code",
   "execution_count": 22,
   "metadata": {},
   "outputs": [],
   "source": [
    "a,b,c,d,e,f = s"
   ]
  },
  {
   "cell_type": "code",
   "execution_count": 23,
   "metadata": {},
   "outputs": [
    {
     "name": "stdout",
     "output_type": "stream",
     "text": [
      "p h y n o t\n"
     ]
    }
   ],
   "source": [
    "print(a,b,c,d,e,f)"
   ]
  },
  {
   "cell_type": "code",
   "execution_count": null,
   "metadata": {},
   "outputs": [],
   "source": []
  }
 ],
 "metadata": {
  "kernelspec": {
   "display_name": "venv",
   "language": "python",
   "name": "python3"
  },
  "language_info": {
   "codemirror_mode": {
    "name": "ipython",
    "version": 3
   },
   "file_extension": ".py",
   "mimetype": "text/x-python",
   "name": "python",
   "nbconvert_exporter": "python",
   "pygments_lexer": "ipython3",
   "version": "3.10.4"
  }
 },
 "nbformat": 4,
 "nbformat_minor": 2
}
